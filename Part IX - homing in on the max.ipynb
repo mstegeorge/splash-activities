{
 "cells": [
  {
   "cell_type": "code",
   "execution_count": 47,
   "metadata": {},
   "outputs": [],
   "source": [
    "import matplotlib.pyplot as plt\n",
    "import numpy as np\n"
   ]
  },
  {
   "cell_type": "code",
   "execution_count": 48,
   "metadata": {},
   "outputs": [],
   "source": [
    "#Let's get our program ready \n",
    "gridlength = 20\n",
    "gridwidth = 20\n",
    "volume=[]\n",
    "height=[]\n",
    "inc = 10 #number of increments in each unit of length or width\n",
    "rangeval =int(10*inc) #we want \"rangeval\" to be an integer\n",
    "\n",
    "for i in range(0,rangeval+1):\n",
    "    height.append(i/inc) \n",
    "    volume.append ((gridlength - 2*height[i])*(gridwidth - 2*height[i])*height[i])\n",
    "    #print (height[i],\" | \", volume[i])    \n",
    "\n"
   ]
  },
  {
   "cell_type": "code",
   "execution_count": 49,
   "metadata": {},
   "outputs": [],
   "source": [
    "\n",
    "\n",
    "slopes1=[]\n",
    "slopes2=[]\n",
    "slopes3=[]\n",
    "\n",
    "#fill up the slopes1 list\n",
    "for i in range(0,rangeval):\n",
    "    slopes1.append((volume[i+1]-volume[i])*inc)\n",
    "\n",
    "#fill up the slopes2 list    \n",
    "for i in range(0,rangeval-1):\n",
    "    slopes2.append((slopes1[i+1]-slopes1[i])*inc)\n",
    "    \n",
    "#fill up the slopes3 list    \n",
    "for i in range(0,rangeval-2):\n",
    "    slopes3.append((slopes2[i+1]-slopes2[i])*inc)\n",
    "    \n",
    "    "
   ]
  },
  {
   "cell_type": "code",
   "execution_count": 54,
   "metadata": {},
   "outputs": [
    {
     "name": "stdout",
     "output_type": "stream",
     "text": [
      "hgt | vol  | slopes1 | slopes2  | slopes3\n",
      "0.0   | 0.0 | 392.04   | -157.6   | 24.0\n",
      "0.1   | 39.2 | 376.28   | -155.2   | 24.0\n",
      "0.2   | 76.83 | 360.76   | -152.8   | 24.0\n",
      "0.3   | 112.91 | 345.48   | -150.4   | 24.0\n",
      "0.4   | 147.46 | 330.44   | -148.0   | 24.0\n",
      "0.5   | 180.5 | 315.64   | -145.6   | 24.0\n",
      "0.6   | 212.06 | 301.08   | -143.2   | 24.0\n",
      "0.7   | 242.17 | 286.76   | -140.8   | 24.0\n",
      "0.8   | 270.85 | 272.68   | -138.4   | 24.0\n",
      "0.9   | 298.12 | 258.84   | -136.0   | 24.0\n",
      "1.0   | 324.0 | 245.24   | -133.6   | 24.0\n",
      "1.1   | 348.52 | 231.88   | -131.2   | 24.0\n",
      "1.2   | 371.71 | 218.76   | -128.8   | 24.0\n",
      "1.3   | 393.59 | 205.88   | -126.4   | 24.0\n",
      "1.4   | 414.18 | 193.24   | -124.0   | 24.0\n",
      "1.5   | 433.5 | 180.84   | -121.6   | 24.0\n",
      "1.6   | 451.58 | 168.68   | -119.2   | 24.0\n",
      "1.7   | 468.45 | 156.76   | -116.8   | 24.0\n",
      "1.8   | 484.13 | 145.08   | -114.4   | 24.0\n",
      "1.9   | 498.64 | 133.64   | -112.0   | 24.0\n",
      "2.0   | 512.0 | 122.44   | -109.6   | 24.0\n",
      "2.1   | 524.24 | 111.48   | -107.2   | 24.0\n",
      "2.2   | 535.39 | 100.76   | -104.8   | 24.0\n",
      "2.3   | 545.47 | 90.28   | -102.4   | 24.0\n",
      "2.4   | 554.5 | 80.04   | -100.0   | 24.0\n",
      "2.5   | 562.5 | 70.04   | -97.6   | 24.0\n",
      "2.6   | 569.5 | 60.28   | -95.2   | 24.0\n",
      "2.7   | 575.53 | 50.76   | -92.8   | 24.0\n",
      "2.8   | 580.61 | 41.48   | -90.4   | 24.0\n",
      "2.9   | 584.76 | 32.44   | -88.0   | 24.0\n",
      "3.0   | 588.0 | 23.64   | -85.6   | 24.0\n",
      "3.1   | 590.36 | 15.08   | -83.2   | 24.0\n",
      "3.2   | 591.87 | 6.76   | -80.8   | 24.0\n",
      "3.3   | 592.55 | -1.32   | -78.4   | 24.0\n",
      "3.4   | 592.42 | -9.16   | -76.0   | 24.0\n",
      "3.5   | 591.5 | -16.76   | -73.6   | 24.0\n",
      "3.6   | 589.82 | -24.12   | -71.2   | 24.0\n",
      "3.7   | 587.41 | -31.24   | -68.8   | 24.0\n",
      "3.8   | 584.29 | -38.12   | -66.4   | 24.0\n",
      "3.9   | 580.48 | -44.76   | -64.0   | 24.0\n",
      "4.0   | 576.0 | -51.16   | -61.6   | 24.0\n",
      "4.1   | 570.88 | -57.32   | -59.2   | 24.0\n",
      "4.2   | 565.15 | -63.24   | -56.8   | 24.0\n",
      "4.3   | 558.83 | -68.92   | -54.4   | 24.0\n",
      "4.4   | 551.94 | -74.36   | -52.0   | 24.0\n",
      "4.5   | 544.5 | -79.56   | -49.6   | 24.0\n",
      "4.6   | 536.54 | -84.52   | -47.2   | 24.0\n",
      "4.7   | 528.09 | -89.24   | -44.8   | 24.0\n",
      "4.8   | 519.17 | -93.72   | -42.4   | 24.0\n",
      "4.9   | 509.8 | -97.96   | -40.0   | 24.0\n",
      "5.0   | 500.0 | -101.96   | -37.6   | 24.0\n",
      "5.1   | 489.8 | -105.72   | -35.2   | 24.0\n",
      "5.2   | 479.23 | -109.24   | -32.8   | 24.0\n",
      "5.3   | 468.31 | -112.52   | -30.4   | 24.0\n",
      "5.4   | 457.06 | -115.56   | -28.0   | 24.0\n",
      "5.5   | 445.5 | -118.36   | -25.6   | 24.0\n",
      "5.6   | 433.66 | -120.92   | -23.2   | 24.0\n",
      "5.7   | 421.57 | -123.24   | -20.8   | 24.0\n",
      "5.8   | 409.25 | -125.32   | -18.4   | 24.0\n",
      "5.9   | 396.72 | -127.16   | -16.0   | 24.0\n",
      "6.0   | 384.0 | -128.76   | -13.6   | 24.0\n",
      "6.1   | 371.12 | -130.12   | -11.2   | 24.0\n",
      "6.2   | 358.11 | -131.24   | -8.8   | 24.0\n",
      "6.3   | 344.99 | -132.12   | -6.4   | 24.0\n",
      "6.4   | 331.78 | -132.76   | -4.0   | 24.0\n",
      "6.5   | 318.5 | -133.16   | -1.6   | 24.0\n",
      "6.6   | 305.18 | -133.32   | 0.8   | 24.0\n",
      "6.7   | 291.85 | -133.24   | 3.2   | 24.0\n",
      "6.8   | 278.53 | -132.92   | 5.6   | 24.0\n",
      "6.9   | 265.24 | -132.36   | 8.0   | 24.0\n",
      "7.0   | 252.0 | -131.56   | 10.4   | 24.0\n",
      "7.1   | 238.84 | -130.52   | 12.8   | 24.0\n",
      "7.2   | 225.79 | -129.24   | 15.2   | 24.0\n",
      "7.3   | 212.87 | -127.72   | 17.6   | 24.0\n",
      "7.4   | 200.1 | -125.96   | 20.0   | 24.0\n",
      "7.5   | 187.5 | -123.96   | 22.4   | 24.0\n",
      "7.6   | 175.1 | -121.72   | 24.8   | 24.0\n",
      "7.7   | 162.93 | -119.24   | 27.2   | 24.0\n",
      "7.8   | 151.01 | -116.52   | 29.6   | 24.0\n",
      "7.9   | 139.36 | -113.56   | 32.0   | 24.0\n",
      "8.0   | 128.0 | -110.36   | 34.4   | 24.0\n",
      "8.1   | 116.96 | -106.92   | 36.8   | 24.0\n",
      "8.2   | 106.27 | -103.24   | 39.2   | 24.0\n",
      "8.3   | 95.95 | -99.32   | 41.6   | 24.0\n",
      "8.4   | 86.02 | -95.16   | 44.0   | 24.0\n",
      "8.5   | 76.5 | -90.76   | 46.4   | 24.0\n",
      "8.6   | 67.42 | -86.12   | 48.8   | 24.0\n",
      "8.7   | 58.81 | -81.24   | 51.2   | 24.0\n",
      "8.8   | 50.69 | -76.12   | 53.6   | 24.0\n",
      "8.9   | 43.08 | -70.76   | 56.0   | 24.0\n",
      "9.0   | 36.0 | -65.16   | 58.4   | 24.0\n",
      "9.1   | 29.48 | -59.32   | 60.8   | 24.0\n",
      "9.2   | 23.55 | -53.24   | 63.2   | 24.0\n",
      "9.3   | 18.23 | -46.92   | 65.6   | 24.0\n",
      "9.4   | 13.54 | -40.36   | 68.0   | 24.0\n",
      "9.5   | 9.5 | -33.56   | 70.4   | 24.0\n",
      "9.6   | 6.14 | -26.52   | 72.8   | 24.0\n",
      "9.7   | 3.49 | -19.24   | 75.2   | 24.0\n"
     ]
    }
   ],
   "source": [
    "print(\"hgt | vol  | slopes1 | slopes2  | slopes3\")  #These are the column headings. \n",
    "for i in range(0,(rangeval-2)):\n",
    "    print (height[i],\"  |\",round(volume[i],2),\"|\",round(slopes1[i],2),\"  |\",round(slopes2[i],2),\"  |\",round(slopes3[i],2))\n",
    "    \n"
   ]
  },
  {
   "cell_type": "code",
   "execution_count": 51,
   "metadata": {},
   "outputs": [
    {
     "data": {
      "image/png": "[encoded data removed]",
      "text/plain": [
       "<Figure size 432x288 with 1 Axes>"
      ]
     },
     "metadata": {
      "needs_background": "light"
     },
     "output_type": "display_data"
    }
   ],
   "source": [
    "# Adding [0:18] constrains the list to the first 18 list items. That is, items 0 through 17\n",
    "plt.plot(height[0:(rangeval-2)], volume[0:(rangeval-2)], \"o--\", label='Volume')\n",
    "plt.plot(height[0:(rangeval-2)], slopes1[0:(rangeval-2)],  \"o--\",label='First slope')\n",
    "plt.plot(height[0:(rangeval-2)], slopes2[0:(rangeval-2)], \"o--\", label='Second slope')\n",
    "plt.plot(height[0:(rangeval-2)], slopes3[0:(rangeval-2)], \"o--\", label=\"Third slope\")\n",
    "plt.xlabel ('height')\n",
    "plt.title(\"Box volume\")\n",
    "plt.legend()\n",
    "plt.show()"
   ]
  },
  {
   "cell_type": "code",
   "execution_count": null,
   "metadata": {},
   "outputs": [],
   "source": []
  }
 ],
 "metadata": {
  "kernelspec": {
   "display_name": "Python 3",
   "language": "python",
   "name": "python3"
  },
  "language_info": {
   "codemirror_mode": {
    "name": "ipython",
    "version": 3
   },
   "file_extension": ".py",
   "mimetype": "text/x-python",
   "name": "python",
   "nbconvert_exporter": "python",
   "pygments_lexer": "ipython3",
   "version": "3.7.1"
  }
 },
 "nbformat": 4,
 "nbformat_minor": 2
}

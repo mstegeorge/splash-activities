{
 "cells": [
  {
   "cell_type": "code",
   "execution_count": 10,
   "metadata": {},
   "outputs": [],
   "source": [
    "import matplotlib.pyplot as plt\n",
    "import numpy as np\n"
   ]
  },
  {
   "cell_type": "code",
   "execution_count": 16,
   "metadata": {},
   "outputs": [],
   "source": [
    "#This time, we will get the volume from the slopes!\n",
    "#gridlength = 20\n",
    "#gridwidth = 20\n",
    "volume=[0]\n",
    "height=[0]\n",
    "inc = 4 #number of increments in each unit of length or width\n",
    "rangeval =int(10*inc) #we want \"rangeval\" to be an integer\n"
   ]
  },
  {
   "cell_type": "code",
   "execution_count": 17,
   "metadata": {},
   "outputs": [],
   "source": [
    "#This time we start with the slope values\n",
    "\n",
    "#slopes1=[400.0]\n",
    "#slopes2=[-160.0]\n",
    "#slopes3=[24.0]\n",
    "\n",
    "\n",
    "slopes1=[400.0]\n",
    "slopes2=[-200.0]\n",
    "slopes3=[36.0]\n"
   ]
  },
  {
   "cell_type": "code",
   "execution_count": 18,
   "metadata": {},
   "outputs": [],
   "source": [
    "#fill up the slopes3 list    \n",
    "for i in range(0,rangeval):\n",
    "    slopes3.append(slopes3[i])\n",
    "\n",
    "#fill up the slopes2 list    \n",
    "for i in range(0,rangeval):\n",
    "    slopes2.append((slopes3[i]/inc) + slopes2[i])\n",
    "    \n",
    "    \n",
    "#fill up the slopes1 list\n",
    "for i in range(0,rangeval):\n",
    "    slopes1.append((slopes2[i]/inc)+slopes1[i])\n",
    "\n",
    "#fill up the volume and height\n",
    "for i in range(0,rangeval):\n",
    "    height.append((i+1)/inc) \n",
    "    volume.append (volume[i]+(slopes1[i]/inc))\n",
    "    #print (height[i],\" | \", volume[i])    \n"
   ]
  },
  {
   "cell_type": "code",
   "execution_count": 19,
   "metadata": {},
   "outputs": [
    {
     "name": "stdout",
     "output_type": "stream",
     "text": [
      "hgt | vol  | slopes1 | slopes2  | slopes3\n",
      "0   | 0 | 400.0   | -200.0   | 36.0\n",
      "0.25   | 100.0 | 350.0   | -191.0   | 36.0\n",
      "0.5   | 187.5 | 302.25   | -182.0   | 36.0\n",
      "0.75   | 263.06 | 256.75   | -173.0   | 36.0\n",
      "1.0   | 327.25 | 213.5   | -164.0   | 36.0\n",
      "1.25   | 380.62 | 172.5   | -155.0   | 36.0\n",
      "1.5   | 423.75 | 133.75   | -146.0   | 36.0\n",
      "1.75   | 457.19 | 97.25   | -137.0   | 36.0\n",
      "2.0   | 481.5 | 63.0   | -128.0   | 36.0\n",
      "2.25   | 497.25 | 31.0   | -119.0   | 36.0\n",
      "2.5   | 505.0 | 1.25   | -110.0   | 36.0\n",
      "2.75   | 505.31 | -26.25   | -101.0   | 36.0\n",
      "3.0   | 498.75 | -51.5   | -92.0   | 36.0\n",
      "3.25   | 485.88 | -74.5   | -83.0   | 36.0\n",
      "3.5   | 467.25 | -95.25   | -74.0   | 36.0\n",
      "3.75   | 443.44 | -113.75   | -65.0   | 36.0\n",
      "4.0   | 415.0 | -130.0   | -56.0   | 36.0\n",
      "4.25   | 382.5 | -144.0   | -47.0   | 36.0\n",
      "4.5   | 346.5 | -155.75   | -38.0   | 36.0\n",
      "4.75   | 307.56 | -165.25   | -29.0   | 36.0\n",
      "5.0   | 266.25 | -172.5   | -20.0   | 36.0\n",
      "5.25   | 223.12 | -177.5   | -11.0   | 36.0\n",
      "5.5   | 178.75 | -180.25   | -2.0   | 36.0\n",
      "5.75   | 133.69 | -180.75   | 7.0   | 36.0\n",
      "6.0   | 88.5 | -179.0   | 16.0   | 36.0\n",
      "6.25   | 43.75 | -175.0   | 25.0   | 36.0\n",
      "6.5   | 0.0 | -168.75   | 34.0   | 36.0\n",
      "6.75   | -42.19 | -160.25   | 43.0   | 36.0\n",
      "7.0   | -82.25 | -149.5   | 52.0   | 36.0\n",
      "7.25   | -119.62 | -136.5   | 61.0   | 36.0\n",
      "7.5   | -153.75 | -121.25   | 70.0   | 36.0\n",
      "7.75   | -184.06 | -103.75   | 79.0   | 36.0\n",
      "8.0   | -210.0 | -84.0   | 88.0   | 36.0\n",
      "8.25   | -231.0 | -62.0   | 97.0   | 36.0\n",
      "8.5   | -246.5 | -37.75   | 106.0   | 36.0\n",
      "8.75   | -255.94 | -11.25   | 115.0   | 36.0\n",
      "9.0   | -258.75 | 17.5   | 124.0   | 36.0\n",
      "9.25   | -254.38 | 48.5   | 133.0   | 36.0\n",
      "9.5   | -242.25 | 81.75   | 142.0   | 36.0\n",
      "9.75   | -221.81 | 117.25   | 151.0   | 36.0\n"
     ]
    }
   ],
   "source": [
    "print(\"hgt | vol  | slopes1 | slopes2  | slopes3\")  #These are the column headings. \n",
    "for i in range(0,(rangeval)):\n",
    "    print (height[i],\"  |\",round(volume[i],2),\"|\", round(slopes1[i],2),\"  |\", round(slopes2[i],2),\"  |\",slopes3[i])\n",
    "    \n"
   ]
  },
  {
   "cell_type": "code",
   "execution_count": 20,
   "metadata": {},
   "outputs": [
    {
     "data": {
      "image/png": "[encoded data removed]",
      "text/plain": [
       "<Figure size 432x288 with 1 Axes>"
      ]
     },
     "metadata": {
      "needs_background": "light"
     },
     "output_type": "display_data"
    }
   ],
   "source": [
    "# Adding [0:18] constrains the list to the first 18 list items. That is, items 0 through 17\n",
    "plt.plot(height[0:(rangeval-2)], volume[0:(rangeval-2)], \"o--\", label='Volume')\n",
    "plt.plot(height[0:(rangeval-2)], slopes1[0:(rangeval-2)],  \"o--\",label='First slope')\n",
    "plt.plot(height[0:(rangeval-2)], slopes2[0:(rangeval-2)], \"o--\", label='Second slope')\n",
    "plt.plot(height[0:(rangeval-2)], slopes3[0:(rangeval-2)], \"o--\", label=\"Third slope\")\n",
    "plt.xlabel ('height')\n",
    "plt.title(\"Box volume\")\n",
    "plt.legend()\n",
    "plt.show()"
   ]
  },
  {
   "cell_type": "code",
   "execution_count": null,
   "metadata": {},
   "outputs": [],
   "source": []
  },
  {
   "cell_type": "code",
   "execution_count": null,
   "metadata": {},
   "outputs": [],
   "source": []
  }
 ],
 "metadata": {
  "kernelspec": {
   "display_name": "Python 3",
   "language": "python",
   "name": "python3"
  },
  "language_info": {
   "codemirror_mode": {
    "name": "ipython",
    "version": 3
   },
   "file_extension": ".py",
   "mimetype": "text/x-python",
   "name": "python",
   "nbconvert_exporter": "python",
   "pygments_lexer": "ipython3",
   "version": "3.7.1"
  }
 },
 "nbformat": 4,
 "nbformat_minor": 2
}
